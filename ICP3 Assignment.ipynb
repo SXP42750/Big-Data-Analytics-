{
  "nbformat": 4,
  "nbformat_minor": 0,
  "metadata": {
    "colab": {
      "provenance": []
    },
    "kernelspec": {
      "name": "python3",
      "display_name": "Python 3"
    },
    "language_info": {
      "name": "python"
    }
  },
  "cells": [
    {
      "cell_type": "code",
      "execution_count": null,
      "metadata": {
        "colab": {
          "base_uri": "https://localhost:8080/"
        },
        "id": "cFB3pcBcIqzl",
        "outputId": "d1149185-bf95-417e-b8bb-6b47c5c93442"
      },
      "outputs": [
        {
          "output_type": "stream",
          "name": "stdout",
          "text": [
            "Original random vector shape: (15,)\n",
            "Reshaped array shape: (3, 5)\n",
            "Reshaped array with max replaced:\n",
            "[[ 6  9 13 11  9]\n",
            " [17  3  8 12 11]\n",
            " [13  8  4 99  7]]\n"
          ]
        }
      ],
      "source": [
        "import numpy as np\n",
        "\n",
        "# Generating  a random vector of size 15 with integers in the range 1-20\n",
        "random_vector = np.random.randint(1, 21, 15) # here we are using the randint function to find the random vector\n",
        "\n",
        "# a. Reshaping  the array to 3 by 5\n",
        "reshaped_array = random_vector.reshape(3, 5)\n",
        "\n",
        "# b. Print array shape\n",
        "print(\"Original random vector shape:\", random_vector.shape)\n",
        "print(\"Reshaped array shape:\", reshaped_array.shape)\n",
        "\n",
        "# c. Replacing  the max value in the reshaped array with a particular  value (e.g., 99)\n",
        "max_value = np.max(reshaped_array)\n",
        "reshaped_array[reshaped_array == max_value] = 99\n",
        "\n",
        "print(\"Reshaped array with max replaced:\")\n",
        "print(reshaped_array)\n",
        "\n"
      ]
    },
    {
      "cell_type": "code",
      "source": [
        "import numpy as np\n",
        "\n",
        "a = np.array([[1, 2, 3], [4, 5, 6], [7, 8, 9], [10, 11, 12]],dtype=np.int32)\n",
        "\n",
        "print(type(a),a.shape,a.dtype)  # printing the type,shape and datatype of array"
      ],
      "metadata": {
        "colab": {
          "base_uri": "https://localhost:8080/"
        },
        "id": "GXB1FQ2DK7YC",
        "outputId": "670d7bc2-a4d6-45d0-ea0b-5c3d21d3fa3f"
      },
      "execution_count": 14,
      "outputs": [
        {
          "output_type": "stream",
          "name": "stdout",
          "text": [
            "<class 'numpy.ndarray'> (4, 3) int32\n"
          ]
        }
      ]
    },
    {
      "cell_type": "code",
      "source": [
        "import numpy as np\n",
        "\n",
        "# given the array\n",
        "array = np.array([[0, 1, 2],\n",
        "                  [3, 4, 5]])\n",
        "\n",
        "# caluclating  the sum of diagonal elements\n",
        "dg_sum = np.trace(array) # using the trace function\n",
        "\n",
        "# Print the sum of diagonal elements\n",
        "print(\"Sum of diagonal elements:\", dg_sum)\n"
      ],
      "metadata": {
        "colab": {
          "base_uri": "https://localhost:8080/"
        },
        "id": "wVfWY2uYNHRc",
        "outputId": "674be62a-f062-492a-ab9b-146722d0762e"
      },
      "execution_count": null,
      "outputs": [
        {
          "output_type": "stream",
          "name": "stdout",
          "text": [
            "Sum of diagonal elements: 4\n"
          ]
        }
      ]
    },
    {
      "cell_type": "code",
      "source": [
        "import numpy as np\n",
        "\n",
        "# Creating  an array of even numbers between 10 and 70\n",
        "even_array = np.arange(10, 71, 2) # we used the slicing technique\n",
        "\n",
        "# Similarly  Creating  an array of odd numbers between 10 and 70\n",
        "odd_array = np.arange(11, 71, 2)\n",
        "\n",
        "print(\"Even numbers array:\", even_array)\n",
        "print(\"Odd numbers array:\", odd_array)\n",
        "\n",
        "# Creating two arrays of the same size\n",
        "array1 = np.array([1, 2, 3])\n",
        "array2 = np.array([4, 5, 6])\n",
        "\n",
        "# Performing element-wise addition\n",
        "result_addition = array1 + array2\n",
        "\n",
        "# Performing element-wise subtraction\n",
        "result_subtraction = array1 - array2\n",
        "\n",
        "# Performing element-wise multiplication\n",
        "result_multiplication = array1 * array2\n",
        "\n",
        "print(\"Element-wise addition:\", result_addition)\n",
        "print(\"Element-wise subtraction:\", result_subtraction)\n",
        "print(\"Element-wise multiplication:\", result_multiplication)\n",
        "\n",
        "\n",
        "# Define the array\n",
        "array = np.array([[5.54, 3.38, 7.99],\n",
        "                  [3.54, 4.38, 6.99],\n",
        "                  [1.54, 2.39, 9.29]])\n",
        "\n",
        "# Sort by row in ascending order\n",
        "sorted_by_row = np.sort(array, axis=1) # with axis is 1 it sorts along row\n",
        "\n",
        "# Sort by column in ascending order\n",
        "sorted_by_column = np.sort(array, axis=0) # with axis is 0 it sorts along column\n",
        "\n",
        "print(\"Sorted by row:\")\n",
        "print(sorted_by_row)\n",
        "\n",
        "print(\"Sorted by column:\")\n",
        "print(sorted_by_column)\n",
        "\n"
      ],
      "metadata": {
        "colab": {
          "base_uri": "https://localhost:8080/"
        },
        "id": "su6V57I7OK8w",
        "outputId": "8c412b13-75af-426d-e9ce-12d7428c1884"
      },
      "execution_count": null,
      "outputs": [
        {
          "output_type": "stream",
          "name": "stdout",
          "text": [
            "Even numbers array: [10 12 14 16 18 20 22 24 26 28 30 32 34 36 38 40 42 44 46 48 50 52 54 56\n",
            " 58 60 62 64 66 68 70]\n",
            "Odd numbers array: [11 13 15 17 19 21 23 25 27 29 31 33 35 37 39 41 43 45 47 49 51 53 55 57\n",
            " 59 61 63 65 67 69]\n",
            "Element-wise addition: [5 7 9]\n",
            "Element-wise subtraction: [-3 -3 -3]\n",
            "Element-wise multiplication: [ 4 10 18]\n",
            "Sorted by row:\n",
            "[[3.38 5.54 7.99]\n",
            " [3.54 4.38 6.99]\n",
            " [1.54 2.39 9.29]]\n",
            "Sorted by column:\n",
            "[[1.54 2.39 6.99]\n",
            " [3.54 3.38 7.99]\n",
            " [5.54 4.38 9.29]]\n"
          ]
        }
      ]
    },
    {
      "cell_type": "code",
      "source": [
        "import numpy as np\n",
        "\n",
        "# Create the array with missing data (nan)\n",
        "array = np.array([[4, 2, np.nan, 1],\n",
        "                  [11, 12, 14, 9],\n",
        "                  [5, np.nan, 1, np.nan]])\n",
        "\n",
        "# Find missing data and return a Boolean array\n",
        "missing_data = np.isnan(array) #used to find the missing data and return true or flase\n",
        "\n",
        "# Print the Boolean array\n",
        "print(\"Missing Data (True/False):\")\n",
        "print(missing_data)\n"
      ],
      "metadata": {
        "colab": {
          "base_uri": "https://localhost:8080/"
        },
        "id": "16BSmgwmPTW7",
        "outputId": "99bc3eba-d54a-45fd-f486-98108f2bf2b6"
      },
      "execution_count": 15,
      "outputs": [
        {
          "output_type": "stream",
          "name": "stdout",
          "text": [
            "Missing Data (True/False):\n",
            "[[False False  True False]\n",
            " [False False False False]\n",
            " [False  True False  True]]\n"
          ]
        }
      ]
    }
  ]
}