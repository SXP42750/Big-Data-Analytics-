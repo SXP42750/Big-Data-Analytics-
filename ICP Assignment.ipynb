{
  "nbformat": 4,
  "nbformat_minor": 0,
  "metadata": {
    "colab": {
      "provenance": []
    },
    "kernelspec": {
      "name": "python3",
      "display_name": "Python 3"
    },
    "language_info": {
      "name": "python"
    }
  },
  "cells": [
    {
      "cell_type": "code",
      "execution_count": 24,
      "metadata": {
        "colab": {
          "base_uri": "https://localhost:8080/"
        },
        "id": "1jLdUo31CtOk",
        "outputId": "0d3d2223-4ac7-4bfa-f64c-4b91f75a3d12"
      },
      "outputs": [
        {
          "output_type": "stream",
          "name": "stdout",
          "text": [
            "htyp\n"
          ]
        }
      ],
      "source": [
        "#\n",
        "st1=\"python\"\n",
        "res=st1[0:4:] # to delete at least 2 character using slicing\n",
        "st2= res[::-1] # to reverse the string\n",
        "print(st2)\n",
        "\n",
        "\n",
        "\n",
        "\n"
      ]
    },
    {
      "cell_type": "code",
      "source": [
        "num1=int(input(\"Enter a integer\"))\n",
        "num2=int(input(\"enter a interger\"))\n",
        "exp=input(\"Enter an expression\")\n",
        "if(exp=='+'): # performing arithematic operations\n",
        "  print(num1+num2)\n",
        "elif(exp=='-'):\n",
        "  print(num1-num2)\n",
        "elif(exp=='*'):\n",
        "  print(num1*num2)\n",
        "elif(exp==\"/\"):\n",
        "  print(num1/num2)\n"
      ],
      "metadata": {
        "colab": {
          "base_uri": "https://localhost:8080/"
        },
        "id": "tT6o2ba3Fsnw",
        "outputId": "8f273769-a6e6-48d0-db3c-b3f2934a4023"
      },
      "execution_count": 36,
      "outputs": [
        {
          "output_type": "stream",
          "name": "stdout",
          "text": [
            "Enter a integer2\n",
            "enter a interger3\n",
            "Enter an expression+\n",
            "5\n"
          ]
        }
      ]
    },
    {
      "cell_type": "code",
      "source": [
        "str_1=\"I love playing with python\"\n",
        "str_2=str_1.replace(\"python\",\"pythons\") # using the replace method to replace the string\n",
        "str_2"
      ],
      "metadata": {
        "colab": {
          "base_uri": "https://localhost:8080/",
          "height": 36
        },
        "id": "o6Felu-tJWqK",
        "outputId": "1d9a50b1-a078-48a4-df2f-7ce3aecae87f"
      },
      "execution_count": 37,
      "outputs": [
        {
          "output_type": "execute_result",
          "data": {
            "text/plain": [
              "'I love playing with pythons'"
            ],
            "application/vnd.google.colaboratory.intrinsic+json": {
              "type": "string"
            }
          },
          "metadata": {},
          "execution_count": 37
        }
      ]
    },
    {
      "cell_type": "code",
      "source": [
        "grade=int(input(\"Enter your grade\")) #using the conditional statements\n",
        "if(grade>=90):\n",
        "  print(\"A Grade\")\n",
        "elif(grade>=80):\n",
        "  print(\"B Grade \")\n",
        "elif(grade>=70):\n",
        "  print(\"C Grade\")\n",
        "elif(grade>=60):\n",
        "  print(\"D Grade\")"
      ],
      "metadata": {
        "colab": {
          "base_uri": "https://localhost:8080/"
        },
        "id": "4kz-xmJoMpoE",
        "outputId": "8b30445a-bf6e-4502-b593-19ed4ae55668"
      },
      "execution_count": 38,
      "outputs": [
        {
          "output_type": "stream",
          "name": "stdout",
          "text": [
            "Enter your grade90\n",
            "A Grade\n"
          ]
        }
      ]
    }
  ]
}