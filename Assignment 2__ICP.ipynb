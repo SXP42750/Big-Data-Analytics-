{
  "nbformat": 4,
  "nbformat_minor": 0,
  "metadata": {
    "colab": {
      "provenance": []
    },
    "kernelspec": {
      "name": "python3",
      "display_name": "Python 3"
    },
    "language_info": {
      "name": "python"
    }
  },
  "cells": [
    {
      "cell_type": "code",
      "execution_count": null,
      "metadata": {
        "id": "n9zbrnJpFJ5P"
      },
      "outputs": [],
      "source": []
    },
    {
      "cell_type": "code",
      "source": [
        "from statistics import *\n",
        "\n",
        "ages = [19, 22, 19, 24, 20, 25, 26, 24, 25, 24]\n",
        "\n",
        "# Sort the list\n",
        "ages.sort()\n",
        "\n",
        "# Find min and max age in the ages list\n",
        "min_age = min(ages)\n",
        "max_age = max(ages)\n",
        "\n",
        "# Add min and max age to the list\n",
        "ages.extend([min_age, max_age])\n",
        "\n",
        "# Find the median age\n",
        "median_age = median(ages)\n",
        "\n",
        "# Find average age\n",
        "average_age = mean(ages)\n",
        "\n",
        "# Find range of ages\n",
        "age_range = max_age - min_age\n",
        "\n",
        "# Print the results\n",
        "print(\"Sorted Ages:\", ages)\n",
        "print(\"Min Age:\", min_age)\n",
        "print(\"Max Age:\", max_age)\n",
        "print(\"Median Age:\", median_age)\n",
        "print(\"Average Age:\", average_age)\n",
        "print(\"Age Range:\", age_range)\n"
      ],
      "metadata": {
        "colab": {
          "base_uri": "https://localhost:8080/"
        },
        "id": "nxbJ3zr8GLgV",
        "outputId": "0def0ed6-d632-429f-a880-acdbab559a19"
      },
      "execution_count": 2,
      "outputs": [
        {
          "output_type": "stream",
          "name": "stdout",
          "text": [
            "Sorted Ages: [19, 19, 20, 22, 24, 24, 24, 25, 25, 26, 19, 26]\n",
            "Min Age: 19\n",
            "Max Age: 26\n",
            "Median Age: 24.0\n",
            "Average Age: 22.75\n",
            "Age Range: 7\n"
          ]
        }
      ]
    },
    {
      "cell_type": "code",
      "source": [
        "dog ={}\n",
        "dog[\"name\"] = \"tom\"\n",
        "dog[\"age\"] = 23\n",
        "dog[\"color\"]=\"blue\"\n",
        "dog[\"breed\"] = \"lab\"\n",
        "dog[\"legs\"] = 4\n",
        "print(dog)\n",
        "\n",
        "student_dr = {\n",
        "\"first_name\": \"Sai\",\n",
        "    \"last_name\": \"Peesari\",\n",
        "    \"gender\": \"Male\",\n",
        "    \"age\": 21,\n",
        "    \"marital_status\": \"Single\",\n",
        "    \"skills\": [\"Python\", \"Java\", \"Web Development\"],\n",
        "    \"country\": \"USA\",\n",
        "    \"city\": \"Warrensberg\",\n",
        "    \"address\": \"313 B Jackson\"\n",
        "}\n",
        "print(student_dr)\n",
        "\n",
        "dict_length = len(student_dr)\n",
        "print(\"the lenght of the student directory is:\" , dict_length)\n",
        "\n",
        "# Get the value of skills and check its data type\n",
        "skills_value = student_dr[\"skills\"]\n",
        "if (skills_value, list):\n",
        "    print(\"Skills is a list:\", skills_value)\n",
        "else:\n",
        "    print(\"Skills is not a list\")\n",
        "\n",
        "# Modify the skills values by adding one or two skills\n",
        "new_skills = [\"Data Science\", \"Machine Learning\"]\n",
        "student_dr[\"skills\"].extend(new_skills)\n",
        "\n",
        "# Get the dictionary keys as a list\n",
        "keys_list = list(student_dr.keys())\n",
        "print(\"Dictionary keys:\", keys_list)\n",
        "\n",
        "# Get the dictionary values as a list\n",
        "values_list = list(student_dr.values())\n",
        "print(\"Dictionary values:\", values_list)"
      ],
      "metadata": {
        "colab": {
          "base_uri": "https://localhost:8080/"
        },
        "id": "BJCs05RJH5m0",
        "outputId": "77f2342f-d025-432c-bc04-1e0504c47b09"
      },
      "execution_count": 7,
      "outputs": [
        {
          "output_type": "stream",
          "name": "stdout",
          "text": [
            "{'name': 'tom', 'age': 23, 'color': 'blue', 'breed': 'lab', 'legs': 4}\n",
            "{'first_name': 'Sai', 'last_name': 'Peesari', 'gender': 'Male', 'age': 21, 'marital_status': 'Single', 'skills': ['Python', 'Java', 'Web Development'], 'country': 'USA', 'city': 'Warrensberg', 'address': '313 B Jackson'}\n",
            "the lenght of the student directory is: 9\n",
            "Skills is a list: ['Python', 'Java', 'Web Development']\n",
            "Dictionary keys: ['first_name', 'last_name', 'gender', 'age', 'marital_status', 'skills', 'country', 'city', 'address']\n",
            "Dictionary values: ['Sai', 'Peesari', 'Male', 21, 'Single', ['Python', 'Java', 'Web Development', 'Data Science', 'Machine Learning'], 'USA', 'Warrensberg', '313 B Jackson']\n"
          ]
        }
      ]
    },
    {
      "cell_type": "code",
      "source": [
        "it_companies = {'Facebook', 'Google', 'Microsoft', 'Apple', 'IBM', 'Oracle', 'Amazon'}\n",
        "A = {19, 22, 24, 20, 25, 26}\n",
        "B = {19, 22, 20, 25, 26, 24, 28, 27}\n",
        "age = [22, 19, 24, 25, 26, 24, 25, 24]\n",
        "set_lenght =len(it_companies)\n",
        "print(set_lenght)\n",
        "it_companies.add(\"Twitter\")\n",
        "it_companies.update([\"IBM\", \"acenter\", \"Amazon\"]) # using the update method to insert  multiple elements to a set, you need to provide the elements as an list.\n",
        "it_companies.remove(\"Facebook\")\n",
        "\n",
        "print(it_companies)\n",
        "  # Both the remove() and discard() methods are used to remove elements from a set in Python, but there's a key difference in how they handle the situation when the element is not found in the set:\n",
        "  # The remove() method is used to remove a specified element from the set.\n",
        " #If the element is not found in the set, it raises a KeyError indicating that the element is not present.\n",
        "  # However the discard is also used to remove elements from the set but If the element is not found in the set, it does nothing and doesn't raise an error. It silently ignores the operation.\n",
        "\n",
        "union_set = A.union(B)\n",
        "print(\"Union of A and B:\", union_set)\n",
        "\n",
        "# Find A intersection B\n",
        "intersect_set = A.intersection(B)\n",
        "print(\"Intersection of A and B:\", intersect_set)\n",
        "\n",
        "# Check if A is a subset of B\n",
        "is_subset = A.issubset(B)\n",
        "print(\"A is a subset of B:\", is_subset)\n",
        "\n",
        "# Check if A and B are disjoint sets\n",
        "are_disjoint = A.isdisjoint(B)\n",
        "print(\"A and B are disjoint sets:\", are_disjoint)\n",
        "\n",
        "# Join A with B and B with A\n",
        "A.update(B)\n",
        "B.update(A)\n",
        "print(\"Joined A:\", A)\n",
        "print(\"Joined B:\", B)\n",
        "\n",
        "# Find symmetric difference between A and B\n",
        "symmetric_difference = A.symmetric_difference(B)\n",
        "print(\"Symmetric difference between A and B:\", symmetric_difference)\n",
        "\n",
        "# Delete the sets A and B completely\n",
        "del A\n",
        "del B\n",
        "\n",
        "# Convert ages list to a set and compare lengths\n",
        "ages = [19, 22, 19, 24, 20, 25, 26, 24, 25, 24]\n",
        "ages_set = set(ages)\n",
        "print(\"Length of ages list:\", len(ages))\n",
        "print(\"Length of ages set:\", len(ages_set))\n",
        "\n",
        "\n",
        "\n"
      ],
      "metadata": {
        "colab": {
          "base_uri": "https://localhost:8080/"
        },
        "id": "bP2vlTCNLnQA",
        "outputId": "8c578a8a-4d5f-4b4d-f102-2c4917bfd0db"
      },
      "execution_count": 8,
      "outputs": [
        {
          "output_type": "stream",
          "name": "stdout",
          "text": [
            "7\n",
            "{'IBM', 'Twitter', 'acenter', 'Amazon', 'Apple', 'Oracle', 'Microsoft', 'Google'}\n",
            "Union of A and B: {19, 20, 22, 24, 25, 26, 27, 28}\n",
            "Intersection of A and B: {19, 20, 22, 24, 25, 26}\n",
            "A is a subset of B: True\n",
            "A and B are disjoint sets: False\n",
            "Joined A: {19, 20, 22, 24, 25, 26, 27, 28}\n",
            "Joined B: {19, 20, 22, 24, 25, 26, 27, 28}\n",
            "Symmetric difference between A and B: set()\n",
            "Length of ages list: 10\n",
            "Length of ages set: 6\n"
          ]
        }
      ]
    },
    {
      "cell_type": "code",
      "source": [
        "\n",
        "class Employee:\n",
        "    total_employees = 0\n",
        "\n",
        "    def __init__(self, name, family, salary, department):\n",
        "        self.name = name\n",
        "        self.family = family\n",
        "        self.salary = salary\n",
        "        self.department = department\n",
        "        Employee.total_employees += 1 # incrementing the employee count\n",
        "\n",
        "\n",
        "    def average_salary(salaries):\n",
        "        return sum(salaries) / len(salaries)\n",
        "\n",
        "class FulltimeEmployee(Employee):\n",
        "  pass #class doesn't have any additional methods or properties of its own\n",
        "\n",
        "# Creating instances of Employee and FulltimeEmployee classes\n",
        "employee1 = Employee(\"John Doe\", \"Family 1\", 60000, \"HR\")\n",
        "employee2 = Employee(\"Jane Smith\", \"Family 2\", 75000, \"Finance\")\n",
        "employee3 = Employee(\"Michael Johnson\", \"Family 3\", 80000, \"IT\")\n",
        "fulltime_employee1 = FulltimeEmployee(\"Alex Brown\", \"Family 4\", 90000, \"Marketing\")\n",
        "fulltime_employee2 = FulltimeEmployee(\"Emily White\", \"Family 5\", 72000, \"Operations\")\n",
        "\n",
        "# Calling member functions\n",
        "salaries = [employee1.salary, employee2.salary, employee3.salary, fulltime_employee1.salary, fulltime_employee2.salary]\n",
        "avg_salary = Employee.average_salary(salaries)\n",
        "print(\"Average Salary:\", avg_salary)\n",
        "\n",
        "print(\"Total Employees:\", Employee.total_employees)\n",
        "\n",
        "avg_salary = Employee.average_salary(salaries)\n",
        "print(\"Average Salary:\", avg_salary)\n",
        "\n",
        "print(\"Total Employees:\", Employee.total_employees)\n"
      ],
      "metadata": {
        "colab": {
          "base_uri": "https://localhost:8080/"
        },
        "id": "EBWeoqkooj_H",
        "outputId": "5267b1ea-830e-4930-aa34-a2f0b7eab4d0"
      },
      "execution_count": 7,
      "outputs": [
        {
          "output_type": "stream",
          "name": "stdout",
          "text": [
            "Average Salary: 75400.0\n",
            "Total Employees: 5\n",
            "Average Salary: 75400.0\n",
            "Total Employees: 5\n"
          ]
        }
      ]
    }
  ]
}